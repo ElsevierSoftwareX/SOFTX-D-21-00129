{
 "cells": [
  {
   "cell_type": "markdown",
   "metadata": {},
   "source": [
    "Architecture: Linux 4.15.0-50-generic\n",
    "Max params: 100000\n",
    "Pytorch version: 0.4"
   ]
  },
  {
   "cell_type": "markdown",
   "metadata": {},
   "source": [
    "Time taken by ISPC code:  [0.000418, 0.000446, 0.000435, 0.000413, 0.000419, 0.000437, 0.000431, 0.00044, 0.000429, 0.000433]\n",
    "Avg Us: [3.0000000000000004e-08, 2.400000000000001e-07, 7.399999999999988e-07, 5.3400000000000005e-06, 8.419e-05, 0.00045003]\n",
    "Avg ISPC: [8e-07, 6.999999999999999e-07, 9.000000000000001e-07, 4.4e-06, 8.15e-05, 0.0004301]\n",
    "Avg Pytorch: [0.0008609909960068762, 0.0003019977593794465, 0.0003404475771822035, 0.0004492849064990878, 0.0008847355120815336, 0.006082194168120622]"
   ]
  },
  {
   "cell_type": "code",
   "execution_count": null,
   "metadata": {},
   "outputs": [],
   "source": []
  }
 ],
 "metadata": {
  "kernelspec": {
   "display_name": "Python 3",
   "language": "python",
   "name": "python3"
  },
  "language_info": {
   "codemirror_mode": {
    "name": "ipython",
    "version": 3
   },
   "file_extension": ".py",
   "mimetype": "text/x-python",
   "name": "python",
   "nbconvert_exporter": "python",
   "pygments_lexer": "ipython3",
   "version": "3.5.2"
  }
 },
 "nbformat": 4,
 "nbformat_minor": 2
}
