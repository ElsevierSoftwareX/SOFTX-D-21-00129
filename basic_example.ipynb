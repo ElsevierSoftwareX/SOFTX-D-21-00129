{
 "cells": [
  {
   "cell_type": "markdown",
   "metadata": {},
   "source": [
    "### Basic example of differentiation with input C function"
   ]
  },
  {
   "cell_type": "code",
   "execution_count": 1,
   "metadata": {},
   "outputs": [],
   "source": [
    "import sys\n",
    "sys.path.append('./tests/python_test_utils')\n",
    "import us_utils"
   ]
  },
  {
   "cell_type": "markdown",
   "metadata": {},
   "source": [
    "#### Input C file with an output variable and multiple input variables"
   ]
  },
  {
   "cell_type": "code",
   "execution_count": 2,
   "metadata": {},
   "outputs": [],
   "source": [
    "c_file = \"int function_0(double a, double p){ \\\n",
    "    double energy = a*a*a*a*p+1/(p*p) - 1/p * p/a; \\\n",
    "    return 0; \\\n",
    "}\""
   ]
  },
  {
   "cell_type": "markdown",
   "metadata": {},
   "source": [
    "#### Writing it to a file"
   ]
  },
  {
   "cell_type": "code",
   "execution_count": 3,
   "metadata": {},
   "outputs": [],
   "source": [
    "f = open(\"examples/basic_example.c\",\"w\")\n",
    "f.write(c_file)\n",
    "f.close()"
   ]
  },
  {
   "cell_type": "markdown",
   "metadata": {},
   "source": [
    "#### Running forward differentiation on the input file"
   ]
  },
  {
   "cell_type": "code",
   "execution_count": 4,
   "metadata": {},
   "outputs": [
    {
     "name": "stdout",
     "output_type": "stream",
     "text": [
      "CCODE:  True\n",
      "ISPC CODE:  False\n",
      "DER Variable()\n",
      "DER Variable()\n"
     ]
    }
   ],
   "source": [
    "!python3 src/forward_diff.py examples/basic_example.c energy -ccode True -reverse False -second_der False --vars a,p -func function_0 --output_filename examples/output_basic_example"
   ]
  },
  {
   "cell_type": "markdown",
   "metadata": {},
   "source": [
    "#### Writing artificial main function with data points"
   ]
  },
  {
   "cell_type": "code",
   "execution_count": 5,
   "metadata": {},
   "outputs": [],
   "source": [
    "main_func = \"\\n int main(){ \\n\\\n",
    "    int size_ders = 2; \\n\\\n",
    "    double ders[size_ders]; \\n\\\n",
    "    double values[2] = {2.0, 3.0}; \\n\\\n",
    "    int num_points = 1; \\n\\\n",
    "    compute(&values, num_points, &ders); \\n\\\n",
    "    for(int i=0;i<size_ders;i++){ \\n \\\n",
    "     printf(\\\"%lf \\\\n\\\", ders[i]);   \\n \\\n",
    "    } \\n \\\n",
    "}\\n\""
   ]
  },
  {
   "cell_type": "code",
   "execution_count": 6,
   "metadata": {},
   "outputs": [],
   "source": [
    "f = open(\"examples/output_basic_example.c\",\"a\")\n",
    "f.write(main_func)\n",
    "f.close()"
   ]
  },
  {
   "cell_type": "markdown",
   "metadata": {},
   "source": [
    "#### Compiling computation and main function"
   ]
  },
  {
   "cell_type": "code",
   "execution_count": 7,
   "metadata": {},
   "outputs": [],
   "source": [
    "!gcc -O3 -ffast-math -o examples/output_basic_example examples/output_basic_example.c -lm -w"
   ]
  },
  {
   "cell_type": "markdown",
   "metadata": {},
   "source": [
    "#### Running compiled file. Outputs printed below"
   ]
  },
  {
   "cell_type": "code",
   "execution_count": 8,
   "metadata": {},
   "outputs": [
    {
     "name": "stdout",
     "output_type": "stream",
     "text": [
      "96.250000 \r\n",
      "15.925926 \r\n"
     ]
    }
   ],
   "source": [
    "!./examples/output_basic_example"
   ]
  },
  {
   "cell_type": "code",
   "execution_count": null,
   "metadata": {},
   "outputs": [],
   "source": []
  }
 ],
 "metadata": {
  "kernelspec": {
   "display_name": "Python 3",
   "language": "python",
   "name": "python3"
  },
  "language_info": {
   "codemirror_mode": {
    "name": "ipython",
    "version": 3
   },
   "file_extension": ".py",
   "mimetype": "text/x-python",
   "name": "python",
   "nbconvert_exporter": "python",
   "pygments_lexer": "ipython3",
   "version": "3.7.4"
  }
 },
 "nbformat": 4,
 "nbformat_minor": 2
}
